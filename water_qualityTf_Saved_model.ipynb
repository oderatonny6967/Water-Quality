{
  "nbformat": 4,
  "nbformat_minor": 0,
  "metadata": {
    "colab": {
      "provenance": [],
      "authorship_tag": "ABX9TyNfeNXk7sa5YgM8rrklCrqf",
      "include_colab_link": true
    },
    "kernelspec": {
      "name": "python3",
      "display_name": "Python 3"
    },
    "language_info": {
      "name": "python"
    }
  },
  "cells": [
    {
      "cell_type": "markdown",
      "metadata": {
        "id": "view-in-github",
        "colab_type": "text"
      },
      "source": [
        "<a href=\"https://colab.research.google.com/github/oderatonny6967/Water-Quality/blob/master/water_qualityTf_Saved_model.ipynb\" target=\"_parent\"><img src=\"https://colab.research.google.com/assets/colab-badge.svg\" alt=\"Open In Colab\"/></a>"
      ]
    },
    {
      "cell_type": "code",
      "execution_count": 2,
      "metadata": {
        "id": "S0g2WDaL1MPt"
      },
      "outputs": [],
      "source": [
        "import pandas as pd\n",
        "from sklearn.linear_model import LogisticRegression\n",
        "from sklearn.preprocessing import StandardScaler\n",
        "from sklearn.model_selection import train_test_split\n",
        "import tensorflow as tf\n",
        "\n",
        "waterquality_data = pd.read_csv('/content/water_potability.csv')\n",
        "\n",
        "missing_values_per_column = waterquality_data.isnull().sum()\n",
        "missing_values_per_column[missing_values_per_column > 0]\n",
        "waterquality_data[missing_values_per_column[missing_values_per_column > 0].index].head()\n",
        "waterquality_data.fillna(waterquality_data.mean(), inplace=True)\n",
        "waterquality_data.isnull().sum()\n",
        "waterquality_data.dropna()\n",
        "\n",
        "X = waterquality_data.drop('Potability', axis=1)\n",
        "y = waterquality_data['Potability']\n",
        "X_train, X_test, y_train, y_test = train_test_split(X, y, test_size=0.3, random_state=42)\n",
        "\n",
        "\n",
        "lr = LogisticRegression(solver='lbfgs', max_iter=1000)\n",
        "lr.fit(X_train, y_train)\n",
        "\n",
        "\n",
        "coef = lr.coef_\n",
        "intercept = lr.intercept_\n",
        "\n",
        "\n",
        "tf_model = tf.keras.Sequential([\n",
        "    tf.keras.layers.InputLayer(input_shape=X.shape[1:]),\n",
        "    tf.keras.layers.Dense(1, activation='sigmoid')\n",
        "])\n",
        "\n",
        "tf_model.set_weights([coef.T, intercept])\n",
        "\n",
        "tf.saved_model.save(tf_model, \"saved_model\")\n",
        "\n"
      ]
    }
  ]
}